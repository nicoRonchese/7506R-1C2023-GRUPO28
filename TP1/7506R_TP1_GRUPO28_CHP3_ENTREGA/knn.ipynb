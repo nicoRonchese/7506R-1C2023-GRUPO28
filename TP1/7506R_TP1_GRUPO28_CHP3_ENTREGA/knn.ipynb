{
 "cells": [
  {
   "attachments": {},
   "cell_type": "markdown",
   "metadata": {},
   "source": [
    "# Clasificador KNN"
   ]
  },
  {
   "attachments": {},
   "cell_type": "markdown",
   "metadata": {},
   "source": [
    "## Importamos las librerias a utilizar"
   ]
  },
  {
   "cell_type": "code",
   "execution_count": 11,
   "metadata": {},
   "outputs": [],
   "source": [
    "import pandas as pd\n",
    "import numpy as np\n",
    "import matplotlib.pyplot as plt\n",
    "import seaborn as sns\n",
    "\n",
    "from sklearn.model_selection import train_test_split\n",
    "from sklearn.metrics import f1_score\n",
    "#from sklearn.metrics import accuracy_score\n",
    "from sklearn.metrics import make_scorer\n",
    "\n",
    "\n",
    "from sklearn import preprocessing\n",
    "from sklearn.metrics import DistanceMetric\n",
    "from sklearn.neighbors import KNeighborsClassifier\n",
    "from sklearn.neighbors import BallTree\n",
    "from sklearn.neighbors import KDTree\n",
    "from sklearn.model_selection import RandomizedSearchCV\n",
    "from sklearn.metrics import confusion_matrix, classification_report"
   ]
  },
  {
   "attachments": {},
   "cell_type": "markdown",
   "metadata": {},
   "source": [
    "## Cargamos el df"
   ]
  },
  {
   "cell_type": "code",
   "execution_count": 12,
   "metadata": {},
   "outputs": [],
   "source": [
    "hotel = pd.read_csv('Datasets/hotels_train.csv') \n",
    "hotel_t = pd.read_csv('Datasets/hotels_test.csv')\n",
    "hotel_orig = hotel_t.copy()"
   ]
  },
  {
   "attachments": {},
   "cell_type": "markdown",
   "metadata": {},
   "source": [
    "## Analisis exploratorio"
   ]
  },
  {
   "cell_type": "code",
   "execution_count": 13,
   "metadata": {},
   "outputs": [
    {
     "data": {
      "text/plain": [
       "(61028, 32)"
      ]
     },
     "execution_count": 13,
     "metadata": {},
     "output_type": "execute_result"
    }
   ],
   "source": [
    "hotel = hotel[hotel['adr']>0]\n",
    "total_filas = hotel.shape[0]\n",
    "hotel.shape"
   ]
  },
  {
   "cell_type": "code",
   "execution_count": 14,
   "metadata": {},
   "outputs": [],
   "source": [
    "hotel['children'].fillna(0,inplace = True)\n",
    "hotel['country'].fillna('PRT',inplace = True)\n",
    "hotel['agent'].fillna(0,inplace = True)\n",
    "hotel['company'].fillna(0,inplace = True)\n",
    "columnas_eliminar=['meal','arrival_date_year','arrival_date_week_number','arrival_date_day_of_month','id','reservation_status_date']\n",
    "hotel.drop(columnas_eliminar, axis='columns', inplace=True)\n",
    "\n",
    "hotel_t['children'].fillna(0,inplace = True)\n",
    "hotel_t['country'].fillna('PRT',inplace = True)\n",
    "hotel_t['agent'].fillna(0,inplace = True)\n",
    "hotel_t['company'].fillna(0,inplace = True)\n",
    "columnas_eliminar=['meal','arrival_date_year','arrival_date_week_number','arrival_date_day_of_month','id','reservation_status_date']\n",
    "hotel_t.drop(columnas_eliminar, axis='columns', inplace=True)"
   ]
  },
  {
   "attachments": {},
   "cell_type": "markdown",
   "metadata": {},
   "source": [
    "## Preprocesamiento"
   ]
  },
  {
   "cell_type": "code",
   "execution_count": 15,
   "metadata": {},
   "outputs": [
    {
     "data": {
      "text/plain": [
       "(61028, 26)"
      ]
     },
     "execution_count": 15,
     "metadata": {},
     "output_type": "execute_result"
    }
   ],
   "source": [
    "def higher_probability(a,b):\n",
    "    if a == b:\n",
    "        return 0\n",
    "    else:\n",
    "        return 1\n",
    "\n",
    "hotel['hotel'] = hotel['hotel'].map({'City Hotel':1,'Resort Hotel':0},na_action=None)\n",
    "hotel['arrival_date_month'] = hotel['arrival_date_month'].map({'January':1,'February':2,'March':3,'April':4,'May':5,'June':6,'July':7,'August':8,'September':9,'October':10,'November':11,'December':12},na_action=None)\n",
    "hotel['country'] = hotel['country'].apply(higher_probability,b='PTR')\n",
    "hotel['market_segment'] = hotel['market_segment'].map({'Online TA':1,'Groups':2,'Offline TA/TO':3,'Direct':4,'Complementary':5,'Corporate':6,'Aviation':7,'Undefined':8},na_action=None)\n",
    "hotel['distribution_channel'] = hotel['distribution_channel'].map({'TA/TO':1,'Direct':2,'Corporate':3,'GDS':4,'Undefined':5},na_action=None)\n",
    "hotel['reserved_room_type'] = hotel['reserved_room_type'].map({'A':1,'B':2,'C':3,'D':4,'E':5,'F':6,'G':7,'H':8,'P':9,'L':10},na_action=None)\n",
    "hotel['assigned_room_type'] = hotel['assigned_room_type'].map({'A':1,'B':2,'C':3,'D':4,'E':5,'F':6,'G':7,'H':8,'P':9,'L':10,'K':11,'I':12},na_action=None)\n",
    "hotel['agent'] = hotel['agent'].apply(higher_probability,b=0)\n",
    "hotel['company'] = hotel['company'].apply(higher_probability,b=0)\n",
    "\n",
    "\n",
    "hotel_t['hotel'] = hotel_t['hotel'].map({'City Hotel':1,'Resort Hotel':0},na_action=None)\n",
    "hotel_t['arrival_date_month'] = hotel_t['arrival_date_month'].map({'January':1,'February':2,'March':3,'April':4,'May':5,'June':6,'July':7,'August':8,'September':9,'October':10,'November':11,'December':12},na_action=None)\n",
    "hotel_t['country'] = hotel_t['country'].apply(higher_probability,b='PTR')\n",
    "hotel_t['market_segment'] = hotel_t['market_segment'].map({'Online TA':1,'Groups':2,'Offline TA/TO':3,'Direct':4,'Complementary':5,'Corporate':6,'Aviation':7,'Undefined':8},na_action=None)\n",
    "hotel_t['distribution_channel'] = hotel_t['distribution_channel'].map({'TA/TO':1,'Direct':2,'Corporate':3,'GDS':4,'Undefined':5},na_action=None)\n",
    "hotel_t['reserved_room_type'] = hotel_t['reserved_room_type'].map({'A':1,'B':2,'C':3,'D':4,'E':5,'F':6,'G':7,'H':8,'P':9,'L':10},na_action=None)\n",
    "hotel_t['assigned_room_type'] = hotel_t['assigned_room_type'].map({'A':1,'B':2,'C':3,'D':4,'E':5,'F':6,'G':7,'H':8,'P':9,'L':10,'K':11,'I':12},na_action=None)\n",
    "hotel_t['agent'] = hotel_t['agent'].apply(higher_probability,b=0)\n",
    "hotel_t['company'] = hotel_t['company'].apply(higher_probability,b=0)\n",
    "\n",
    "hotel.shape"
   ]
  },
  {
   "cell_type": "code",
   "execution_count": 16,
   "metadata": {},
   "outputs": [],
   "source": [
    "#Dummies para deposit_type\n",
    "hotel = pd.get_dummies(hotel, columns=['deposit_type'], drop_first=True)\n",
    "hotel_t = pd.get_dummies(hotel_t, columns=['deposit_type'], drop_first=True)\n",
    "\n",
    "#Dummies para customer_type\n",
    "hotel = pd.get_dummies(hotel, columns=['customer_type'], drop_first=True)\n",
    "hotel_t = pd.get_dummies(hotel_t, columns=['customer_type'], drop_first=True)"
   ]
  },
  {
   "attachments": {},
   "cell_type": "markdown",
   "metadata": {},
   "source": [
    "## Entrenamiento y Prediccion"
   ]
  },
  {
   "cell_type": "code",
   "execution_count": 17,
   "metadata": {},
   "outputs": [],
   "source": [
    "def metricas(y_pred,y_test):\n",
    "\n",
    "  print(classification_report(y_test,y_pred))\n",
    "  \n",
    "  cm = confusion_matrix(y_test,y_pred)\n",
    "  sns.heatmap(cm, cmap='Blues',annot=True,fmt='g')\n",
    "  plt.xlabel('Predicted')\n",
    "  plt.ylabel('True')"
   ]
  },
  {
   "cell_type": "code",
   "execution_count": 18,
   "metadata": {},
   "outputs": [],
   "source": [
    "target='is_canceled'\n",
    "hotel_x=hotel.drop([target], axis='columns', inplace=False)\n",
    "hotel_y = hotel[target].copy()"
   ]
  },
  {
   "cell_type": "code",
   "execution_count": 19,
   "metadata": {},
   "outputs": [],
   "source": [
    "\n",
    "x_train, x_test, y_train, y_test = train_test_split(hotel_x, \n",
    "                                                    hotel_y, \n",
    "                                                    test_size=0.20,  \n",
    "                                                    random_state=5, )"
   ]
  },
  {
   "cell_type": "code",
   "execution_count": 20,
   "metadata": {},
   "outputs": [],
   "source": [
    "min_max_scaler = preprocessing.MinMaxScaler()\n",
    "x_train_minmax = min_max_scaler.fit_transform(x_train) \n",
    "x_test_minmax  = min_max_scaler.transform(x_test)\n",
    "\n",
    "stand_scaler = preprocessing.StandardScaler()\n",
    "x_train_norm = stand_scaler.fit_transform(x_train)\n",
    "x_test_norm=stand_scaler.transform(x_test)"
   ]
  },
  {
   "cell_type": "code",
   "execution_count": 21,
   "metadata": {},
   "outputs": [
    {
     "data": {
      "text/plain": [
       "array([0.80596837, 0.78341715, 0.78499426, 0.79863574, 0.78788236,\n",
       "       0.78521984, 0.78306906, 0.79873816, 0.78401104, 0.78550638])"
      ]
     },
     "execution_count": 21,
     "metadata": {},
     "output_type": "execute_result"
    }
   ],
   "source": [
    "#Grilla de Parámetros\n",
    "params_grid={ 'n_neighbors':range(2,6), \n",
    "              'weights':['distance','uniform'],\n",
    "              'algorithm':['ball_tree', 'kd_tree', 'brute'],\n",
    "              'metric':['euclidean','manhattan','chebyshev']\n",
    "             }\n",
    "\n",
    "#Clasificador KNN\n",
    "knn=KNeighborsClassifier()\n",
    "\n",
    "scorer_fn = make_scorer(f1_score)\n",
    "#Random Search con 10 Folds y 10 iteraciones\n",
    "rand = RandomizedSearchCV(knn, params_grid, cv=10, scoring='accuracy', n_iter=10, random_state=5,error_score='raise')\n",
    "\n",
    "rand.fit(x_train_minmax, y_train)\n",
    "rand.cv_results_['mean_test_score']"
   ]
  },
  {
   "cell_type": "code",
   "execution_count": 22,
   "metadata": {},
   "outputs": [
    {
     "name": "stdout",
     "output_type": "stream",
     "text": [
      "KNeighborsClassifier(algorithm='kd_tree', metric='manhattan',\n",
      "                     weights='distance')\n",
      "0.8059683693889703\n",
      "              precision    recall  f1-score   support\n",
      "\n",
      "           0       0.80      0.80      0.80      6047\n",
      "           1       0.80      0.80      0.80      6159\n",
      "\n",
      "    accuracy                           0.80     12206\n",
      "   macro avg       0.80      0.80      0.80     12206\n",
      "weighted avg       0.80      0.80      0.80     12206\n",
      "\n"
     ]
    },
    {
     "data": {
      "image/png": "[encoded data removed]",
      "text/plain": [
       "<Figure size 640x480 with 2 Axes>"
      ]
     },
     "metadata": {},
     "output_type": "display_data"
    }
   ],
   "source": [
    "best_tree = rand.best_estimator_\n",
    "print(best_tree)\n",
    "print(rand.best_score_)\n",
    "y_pred_lin=best_tree.predict(x_test_minmax)\n",
    "metricas(y_pred_lin,y_test)\n",
    "\n",
    "model = best_tree.fit(x_train,y_train)"
   ]
  },
  {
   "cell_type": "code",
   "execution_count": 23,
   "metadata": {},
   "outputs": [
    {
     "data": {
      "text/plain": [
       "array([0.80746354, 0.78790284, 0.78571114, 0.80115494, 0.78954137,\n",
       "       0.78392924, 0.78362186, 0.80119591, 0.78571113, 0.78696051])"
      ]
     },
     "execution_count": 23,
     "metadata": {},
     "output_type": "execute_result"
    }
   ],
   "source": [
    "rand.fit(x_train_norm, y_train)\n",
    "rand.cv_results_['mean_test_score']"
   ]
  },
  {
   "cell_type": "code",
   "execution_count": 24,
   "metadata": {},
   "outputs": [
    {
     "name": "stdout",
     "output_type": "stream",
     "text": [
      "KNeighborsClassifier(algorithm='kd_tree', metric='manhattan',\n",
      "                     weights='distance')\n",
      "0.8074635365546412\n",
      "              precision    recall  f1-score   support\n",
      "\n",
      "           0       0.80      0.80      0.80      6047\n",
      "           1       0.80      0.80      0.80      6159\n",
      "\n",
      "    accuracy                           0.80     12206\n",
      "   macro avg       0.80      0.80      0.80     12206\n",
      "weighted avg       0.80      0.80      0.80     12206\n",
      "\n"
     ]
    },
    {
     "data": {
      "image/png": "[encoded data removed]",
      "text/plain": [
       "<Figure size 640x480 with 2 Axes>"
      ]
     },
     "metadata": {},
     "output_type": "display_data"
    }
   ],
   "source": [
    "best_tree2 = rand.best_estimator_\n",
    "print(best_tree2)\n",
    "print(rand.best_score_)\n",
    "y_pred_lin2=best_tree2.predict(x_test_norm)\n",
    "metricas(y_pred_lin2,y_test)\n",
    "\n",
    "model2 = best_tree2.fit(x_train,y_train)"
   ]
  },
  {
   "cell_type": "code",
   "execution_count": 26,
   "metadata": {},
   "outputs": [
    {
     "name": "stdout",
     "output_type": "stream",
     "text": [
      "KNeighborsClassifier(algorithm='kd_tree', metric='manhattan',\n",
      "                     weights='distance')\n",
      "KNeighborsClassifier(algorithm='kd_tree', metric='manhattan',\n",
      "                     weights='distance')\n"
     ]
    }
   ],
   "source": [
    "print(model)\n",
    "print(model2)"
   ]
  },
  {
   "cell_type": "code",
   "execution_count": 25,
   "metadata": {},
   "outputs": [],
   "source": [
    "import pickle\n",
    "pickle.dump(model, open(\"knn_minmax\", \"wb\"))\n",
    "pickle.dump(model2, open(\"knn_norm\", \"wb\"))"
   ]
  }
 ],
 "metadata": {
  "kernelspec": {
   "display_name": "Python 3",
   "language": "python",
   "name": "python3"
  },
  "language_info": {
   "codemirror_mode": {
    "name": "ipython",
    "version": 3
   },
   "file_extension": ".py",
   "mimetype": "text/x-python",
   "name": "python",
   "nbconvert_exporter": "python",
   "pygments_lexer": "ipython3",
   "version": "3.7.9"
  },
  "orig_nbformat": 4
 },
 "nbformat": 4,
 "nbformat_minor": 2
}
