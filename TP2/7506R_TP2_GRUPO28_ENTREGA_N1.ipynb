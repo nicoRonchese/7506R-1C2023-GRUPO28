{
 "cells": [
  {
   "attachments": {},
   "cell_type": "markdown",
   "metadata": {},
   "source": [
    "# Clasificador Bayes Naive"
   ]
  },
  {
   "attachments": {},
   "cell_type": "markdown",
   "metadata": {},
   "source": [
    "## Importamos las librerias a utilizar"
   ]
  },
  {
   "cell_type": "code",
   "execution_count": 1,
   "metadata": {},
   "outputs": [],
   "source": [
    "import pandas as pd\n",
    "import numpy as np\n",
    "import matplotlib.pyplot as plt\n",
    "import seaborn as sns\n",
    "\n",
    "from sklearn.metrics import f1_score,  recall_score, precision_score, accuracy_score\n",
    "from sklearn.preprocessing import StandardScaler,MinMaxScaler\n",
    "from sklearn.model_selection import train_test_split\n",
    "from sklearn.metrics import confusion_matrix, classification_report\n",
    "\n",
    "from sklearn.feature_extraction.text import CountVectorizer,TfidfVectorizer\n",
    "from sklearn.naive_bayes import BernoulliNB,MultinomialNB\n",
    "from sklearn.pipeline import make_pipeline\n",
    "\n",
    "from sklearn.model_selection import RandomizedSearchCV,GridSearchCV"
   ]
  },
  {
   "attachments": {},
   "cell_type": "markdown",
   "metadata": {},
   "source": [
    "## Cargamos el df y Preprocesamiento"
   ]
  },
  {
   "cell_type": "code",
   "execution_count": 2,
   "metadata": {},
   "outputs": [
    {
     "data": {
      "text/html": [
       "<div>\n",
       "<style scoped>\n",
       "    .dataframe tbody tr th:only-of-type {\n",
       "        vertical-align: middle;\n",
       "    }\n",
       "\n",
       "    .dataframe tbody tr th {\n",
       "        vertical-align: top;\n",
       "    }\n",
       "\n",
       "    .dataframe thead th {\n",
       "        text-align: right;\n",
       "    }\n",
       "</style>\n",
       "<table border=\"1\" class=\"dataframe\">\n",
       "  <thead>\n",
       "    <tr style=\"text-align: right;\">\n",
       "      <th></th>\n",
       "      <th>review_es</th>\n",
       "      <th>sentimiento</th>\n",
       "    </tr>\n",
       "  </thead>\n",
       "  <tbody>\n",
       "    <tr>\n",
       "      <th>0</th>\n",
       "      <td>Uno de los otros críticos ha mencionado que de...</td>\n",
       "      <td>1</td>\n",
       "    </tr>\n",
       "    <tr>\n",
       "      <th>1</th>\n",
       "      <td>Una pequeña pequeña producción.La técnica de f...</td>\n",
       "      <td>1</td>\n",
       "    </tr>\n",
       "    <tr>\n",
       "      <th>2</th>\n",
       "      <td>Pensé que esta era una manera maravillosa de p...</td>\n",
       "      <td>1</td>\n",
       "    </tr>\n",
       "    <tr>\n",
       "      <th>3</th>\n",
       "      <td>Básicamente, hay una familia donde un niño peq...</td>\n",
       "      <td>0</td>\n",
       "    </tr>\n",
       "    <tr>\n",
       "      <th>4</th>\n",
       "      <td>El \"amor en el tiempo\" de Petter Mattei es una...</td>\n",
       "      <td>1</td>\n",
       "    </tr>\n",
       "  </tbody>\n",
       "</table>\n",
       "</div>"
      ],
      "text/plain": [
       "                                           review_es  sentimiento\n",
       "0  Uno de los otros críticos ha mencionado que de...            1\n",
       "1  Una pequeña pequeña producción.La técnica de f...            1\n",
       "2  Pensé que esta era una manera maravillosa de p...            1\n",
       "3  Básicamente, hay una familia donde un niño peq...            0\n",
       "4  El \"amor en el tiempo\" de Petter Mattei es una...            1"
      ]
     },
     "execution_count": 2,
     "metadata": {},
     "output_type": "execute_result"
    }
   ],
   "source": [
    "review = pd.read_csv('datasets/train.csv') \n",
    "review_t = pd.read_csv('datasets/test.csv')\n",
    "review_orig = review_t.copy()\n",
    "review['sentimiento'] = review['sentimiento'].map({'positivo':1,'negativo':0},na_action=None)\n",
    "review.drop('ID', axis='columns', inplace=True)\n",
    "review_t.drop('ID', axis='columns', inplace=True)\n",
    "review.head()"
   ]
  },
  {
   "attachments": {},
   "cell_type": "markdown",
   "metadata": {},
   "source": [
    "## Entrenamiento y Prediccion"
   ]
  },
  {
   "cell_type": "code",
   "execution_count": 3,
   "metadata": {},
   "outputs": [],
   "source": [
    "def metricas(y_pred,y_test):\n",
    "\n",
    "  print(classification_report(y_test,y_pred))\n",
    "  \n",
    "  cm = confusion_matrix(y_test,y_pred)\n",
    "  sns.heatmap(cm, cmap='Blues',annot=True,fmt='g')\n",
    "  plt.xlabel('Predicted')\n",
    "  plt.ylabel('True')"
   ]
  },
  {
   "cell_type": "code",
   "execution_count": 4,
   "metadata": {},
   "outputs": [
    {
     "data": {
      "text/html": [
       "<div>\n",
       "<style scoped>\n",
       "    .dataframe tbody tr th:only-of-type {\n",
       "        vertical-align: middle;\n",
       "    }\n",
       "\n",
       "    .dataframe tbody tr th {\n",
       "        vertical-align: top;\n",
       "    }\n",
       "\n",
       "    .dataframe thead th {\n",
       "        text-align: right;\n",
       "    }\n",
       "</style>\n",
       "<table border=\"1\" class=\"dataframe\">\n",
       "  <thead>\n",
       "    <tr style=\"text-align: right;\">\n",
       "      <th></th>\n",
       "      <th>review_es</th>\n",
       "    </tr>\n",
       "  </thead>\n",
       "  <tbody>\n",
       "    <tr>\n",
       "      <th>0</th>\n",
       "      <td>Uno de los otros críticos ha mencionado que de...</td>\n",
       "    </tr>\n",
       "    <tr>\n",
       "      <th>1</th>\n",
       "      <td>Una pequeña pequeña producción.La técnica de f...</td>\n",
       "    </tr>\n",
       "    <tr>\n",
       "      <th>2</th>\n",
       "      <td>Pensé que esta era una manera maravillosa de p...</td>\n",
       "    </tr>\n",
       "    <tr>\n",
       "      <th>3</th>\n",
       "      <td>Básicamente, hay una familia donde un niño peq...</td>\n",
       "    </tr>\n",
       "    <tr>\n",
       "      <th>4</th>\n",
       "      <td>El \"amor en el tiempo\" de Petter Mattei es una...</td>\n",
       "    </tr>\n",
       "  </tbody>\n",
       "</table>\n",
       "</div>"
      ],
      "text/plain": [
       "                                           review_es\n",
       "0  Uno de los otros críticos ha mencionado que de...\n",
       "1  Una pequeña pequeña producción.La técnica de f...\n",
       "2  Pensé que esta era una manera maravillosa de p...\n",
       "3  Básicamente, hay una familia donde un niño peq...\n",
       "4  El \"amor en el tiempo\" de Petter Mattei es una..."
      ]
     },
     "execution_count": 4,
     "metadata": {},
     "output_type": "execute_result"
    }
   ],
   "source": [
    "target='sentimiento'\n",
    "review_split=review.drop([target], axis='columns', inplace=False)\n",
    "sentimientos = review[target].copy()\n",
    "review_split.head()"
   ]
  },
  {
   "cell_type": "code",
   "execution_count": 5,
   "metadata": {},
   "outputs": [],
   "source": [
    "# # Initialize CountVectorizer\n",
    "# vectorizer = CountVectorizer()\n",
    "# vectorizer.fit(review_split['review_es'])\n",
    "\n",
    "\n",
    "# # Define a function to transform each text entry using CountVectorizer\n",
    "# def transform_text(text):\n",
    "#     vectorized_text = vectorizer.transform([text])\n",
    "#     return vectorized_text\n",
    "\n",
    "# # Apply the transformation to the 'review_es' column\n",
    "# review_split['review_es'] = review_split['review_es'].apply(transform_text)\n",
    "# review_split.head()"
   ]
  },
  {
   "cell_type": "code",
   "execution_count": 6,
   "metadata": {},
   "outputs": [
    {
     "name": "stdout",
     "output_type": "stream",
     "text": [
      "40000\n",
      "10000\n",
      "40000\n",
      "10000\n",
      "(40000,)\n"
     ]
    },
    {
     "data": {
      "text/plain": [
       "(40000,)"
      ]
     },
     "execution_count": 6,
     "metadata": {},
     "output_type": "execute_result"
    }
   ],
   "source": [
    "x_train, x_test, y_train, y_test = train_test_split(review_split, \n",
    "                                                    sentimientos, \n",
    "                                                    test_size=0.20,  \n",
    "                                                    random_state=5, )\n",
    "print(len(x_train))\n",
    "print(len(x_test))\n",
    "print(len(y_train))\n",
    "print(len(y_test))\n",
    "print(x_train['review_es'].shape)\n",
    "y_train.shape"
   ]
  },
  {
   "cell_type": "code",
   "execution_count": 7,
   "metadata": {},
   "outputs": [
    {
     "name": "stdout",
     "output_type": "stream",
     "text": [
      "Best Parameters: {'alpha': 0.3222222222222222, 'fit_prior': False}\n"
     ]
    },
    {
     "data": {
      "text/plain": [
       "array([0.84365 , 0.8437  , 0.84645 , 0.84655 , 0.8465  , 0.846525,\n",
       "       0.846325, 0.846425, 0.8459  , 0.846   , 0.845525, 0.8457  ,\n",
       "       0.8455  , 0.8456  , 0.84495 , 0.845175, 0.844475, 0.844575,\n",
       "       0.843975, 0.843975])"
      ]
     },
     "execution_count": 7,
     "metadata": {},
     "output_type": "execute_result"
    }
   ],
   "source": [
    "#param_grid = {'alpha': [0.1,0.2,0.3,0.4 ,0.5,0.6,0.7,0.8,0.9,1.0], 'fit_prior': [True, False]}\n",
    "param_grid = {'alpha': np.linspace(0.1,2.1,10) ,'fit_prior': [True, False]}\n",
    "# Create the Naive Bayes model\n",
    "model = BernoulliNB()\n",
    "\n",
    "# Perform grid search\n",
    "grid_search = GridSearchCV(model, param_grid, cv=5,scoring='accuracy')\n",
    "model2 = make_pipeline(TfidfVectorizer(),grid_search)\n",
    "model2.fit(x_train['review_es'], y_train)\n",
    "\n",
    "# Retrieve the best parameters and score\n",
    "best_params = grid_search.best_params_\n",
    "print(\"Best Parameters:\", best_params)\n",
    "grid_search.cv_results_['mean_test_score']"
   ]
  },
  {
   "cell_type": "code",
   "execution_count": 8,
   "metadata": {},
   "outputs": [
    {
     "name": "stdout",
     "output_type": "stream",
     "text": [
      "BernoulliNB(alpha=0.3222222222222222, fit_prior=False)\n",
      "0.84655\n",
      "              precision    recall  f1-score   support\n",
      "\n",
      "           0       0.83      0.87      0.85      4900\n",
      "           1       0.87      0.83      0.85      5100\n",
      "\n",
      "    accuracy                           0.85     10000\n",
      "   macro avg       0.85      0.85      0.85     10000\n",
      "weighted avg       0.85      0.85      0.85     10000\n",
      "\n"
     ]
    },
    {
     "data": {
      "image/png": "[encoded data removed]",
      "text/plain": [
       "<Figure size 640x480 with 2 Axes>"
      ]
     },
     "metadata": {},
     "output_type": "display_data"
    }
   ],
   "source": [
    "best_tree = grid_search.best_estimator_\n",
    "print(best_tree)\n",
    "print(grid_search.best_score_)\n",
    "model3 = make_pipeline(TfidfVectorizer(),best_tree)\n",
    "model3.fit(x_train['review_es'], y_train)\n",
    "y_pred_lin=model3.predict(x_test['review_es'])\n",
    "metricas(y_pred_lin,y_test)"
   ]
  },
  {
   "cell_type": "code",
   "execution_count": 9,
   "metadata": {},
   "outputs": [
    {
     "name": "stdout",
     "output_type": "stream",
     "text": [
      "\n"
     ]
    }
   ],
   "source": [
    "y_predic = model3.predict(review_t['review_es'])\n",
    "y_predic_cat = np.where(y_predic>0.5,1,0)\n",
    "print()"
   ]
  },
  {
   "cell_type": "code",
   "execution_count": 10,
   "metadata": {},
   "outputs": [
    {
     "data": {
      "text/html": [
       "<div>\n",
       "<style scoped>\n",
       "    .dataframe tbody tr th:only-of-type {\n",
       "        vertical-align: middle;\n",
       "    }\n",
       "\n",
       "    .dataframe tbody tr th {\n",
       "        vertical-align: top;\n",
       "    }\n",
       "\n",
       "    .dataframe thead th {\n",
       "        text-align: right;\n",
       "    }\n",
       "</style>\n",
       "<table border=\"1\" class=\"dataframe\">\n",
       "  <thead>\n",
       "    <tr style=\"text-align: right;\">\n",
       "      <th></th>\n",
       "      <th>ID</th>\n",
       "      <th>review_es</th>\n",
       "      <th>sentimiento</th>\n",
       "    </tr>\n",
       "  </thead>\n",
       "  <tbody>\n",
       "    <tr>\n",
       "      <th>0</th>\n",
       "      <td>60000</td>\n",
       "      <td>La mayor virtud de esta película es su existen...</td>\n",
       "      <td>negativo</td>\n",
       "    </tr>\n",
       "    <tr>\n",
       "      <th>1</th>\n",
       "      <td>60001</td>\n",
       "      <td>No soy un experto cinéfilo, pero pocas veces m...</td>\n",
       "      <td>negativo</td>\n",
       "    </tr>\n",
       "    <tr>\n",
       "      <th>2</th>\n",
       "      <td>60002</td>\n",
       "      <td>Si no eres un incondicional del humor estilo T...</td>\n",
       "      <td>negativo</td>\n",
       "    </tr>\n",
       "    <tr>\n",
       "      <th>3</th>\n",
       "      <td>60003</td>\n",
       "      <td>No sé qué está pasando, si la gente se deja ll...</td>\n",
       "      <td>negativo</td>\n",
       "    </tr>\n",
       "    <tr>\n",
       "      <th>4</th>\n",
       "      <td>60004</td>\n",
       "      <td>Pero cuando amanece,y me quedo solo,siento en ...</td>\n",
       "      <td>negativo</td>\n",
       "    </tr>\n",
       "  </tbody>\n",
       "</table>\n",
       "</div>"
      ],
      "text/plain": [
       "      ID                                          review_es sentimiento\n",
       "0  60000  La mayor virtud de esta película es su existen...    negativo\n",
       "1  60001  No soy un experto cinéfilo, pero pocas veces m...    negativo\n",
       "2  60002  Si no eres un incondicional del humor estilo T...    negativo\n",
       "3  60003  No sé qué está pasando, si la gente se deja ll...    negativo\n",
       "4  60004  Pero cuando amanece,y me quedo solo,siento en ...    negativo"
      ]
     },
     "execution_count": 10,
     "metadata": {},
     "output_type": "execute_result"
    }
   ],
   "source": [
    "review_orig['sentimiento'] = y_predic_cat\n",
    "review_orig['sentimiento'] = review_orig['sentimiento'].map({1:'positivo',0:'negativo'},na_action=None)\n",
    "review_orig.head()"
   ]
  },
  {
   "cell_type": "code",
   "execution_count": 11,
   "metadata": {},
   "outputs": [
    {
     "data": {
      "text/html": [
       "<div>\n",
       "<style scoped>\n",
       "    .dataframe tbody tr th:only-of-type {\n",
       "        vertical-align: middle;\n",
       "    }\n",
       "\n",
       "    .dataframe tbody tr th {\n",
       "        vertical-align: top;\n",
       "    }\n",
       "\n",
       "    .dataframe thead th {\n",
       "        text-align: right;\n",
       "    }\n",
       "</style>\n",
       "<table border=\"1\" class=\"dataframe\">\n",
       "  <thead>\n",
       "    <tr style=\"text-align: right;\">\n",
       "      <th></th>\n",
       "      <th>ID</th>\n",
       "      <th>sentimiento</th>\n",
       "    </tr>\n",
       "  </thead>\n",
       "  <tbody>\n",
       "    <tr>\n",
       "      <th>0</th>\n",
       "      <td>60000</td>\n",
       "      <td>negativo</td>\n",
       "    </tr>\n",
       "    <tr>\n",
       "      <th>1</th>\n",
       "      <td>60001</td>\n",
       "      <td>negativo</td>\n",
       "    </tr>\n",
       "    <tr>\n",
       "      <th>2</th>\n",
       "      <td>60002</td>\n",
       "      <td>negativo</td>\n",
       "    </tr>\n",
       "    <tr>\n",
       "      <th>3</th>\n",
       "      <td>60003</td>\n",
       "      <td>negativo</td>\n",
       "    </tr>\n",
       "    <tr>\n",
       "      <th>4</th>\n",
       "      <td>60004</td>\n",
       "      <td>negativo</td>\n",
       "    </tr>\n",
       "  </tbody>\n",
       "</table>\n",
       "</div>"
      ],
      "text/plain": [
       "      ID sentimiento\n",
       "0  60000    negativo\n",
       "1  60001    negativo\n",
       "2  60002    negativo\n",
       "3  60003    negativo\n",
       "4  60004    negativo"
      ]
     },
     "execution_count": 11,
     "metadata": {},
     "output_type": "execute_result"
    }
   ],
   "source": [
    "entregable = pd.DataFrame({'ID': review_orig['ID'], 'sentimiento':review_orig['sentimiento']})\n",
    "\n",
    "entregable.head()"
   ]
  },
  {
   "cell_type": "code",
   "execution_count": 12,
   "metadata": {},
   "outputs": [],
   "source": [
    "entregable.to_csv('bn.csv', index=False)"
   ]
  },
  {
   "cell_type": "code",
   "execution_count": null,
   "metadata": {},
   "outputs": [],
   "source": [
    "import pickle\n",
    "pickle.dump(model, open(\"bayes_naive\", \"wb\"))"
   ]
  }
 ],
 "metadata": {
  "kernelspec": {
   "display_name": "Python 3",
   "language": "python",
   "name": "python3"
  },
  "language_info": {
   "codemirror_mode": {
    "name": "ipython",
    "version": 3
   },
   "file_extension": ".py",
   "mimetype": "text/x-python",
   "name": "python",
   "nbconvert_exporter": "python",
   "pygments_lexer": "ipython3",
   "version": "3.7.9"
  },
  "orig_nbformat": 4
 },
 "nbformat": 4,
 "nbformat_minor": 2
}
